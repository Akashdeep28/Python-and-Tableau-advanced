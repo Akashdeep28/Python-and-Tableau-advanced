{
 "cells": [
  {
   "cell_type": "markdown",
   "id": "7480acb2",
   "metadata": {},
   "source": [
    "### 1. Simple Message: Store a message in a variable, and then print that message."
   ]
  },
  {
   "cell_type": "code",
   "execution_count": 1,
   "id": "ee184f86",
   "metadata": {},
   "outputs": [
    {
     "name": "stdout",
     "output_type": "stream",
     "text": [
      "Hello World\n"
     ]
    }
   ],
   "source": [
    "# This is my first program written on 11 Apr 7:32PM, - Akashdeep Shukla\n",
    "a = \"Hello World\"\n",
    "print(a)"
   ]
  },
  {
   "cell_type": "markdown",
   "id": "5bd02db8",
   "metadata": {},
   "source": [
    "### 2. Store a message in a variable and print that message. Then change the value of your variable to a new message and print the new message."
   ]
  },
  {
   "cell_type": "code",
   "execution_count": 2,
   "id": "d2901f28",
   "metadata": {},
   "outputs": [
    {
     "name": "stdout",
     "output_type": "stream",
     "text": [
      "My Life No Rules\n"
     ]
    }
   ],
   "source": [
    "b = \"My Life No Rules\"\n",
    "print(b)"
   ]
  },
  {
   "cell_type": "code",
   "execution_count": 4,
   "id": "b3b5823a",
   "metadata": {},
   "outputs": [
    {
     "name": "stdout",
     "output_type": "stream",
     "text": [
      "Rules are important in life\n"
     ]
    }
   ],
   "source": [
    "b = \"Rules are important in life\"\n",
    "print(b)"
   ]
  },
  {
   "cell_type": "markdown",
   "id": "22efc140",
   "metadata": {},
   "source": [
    "### 3. Store a person’s name in a variable and print a message to that person. Your message should be simple, such as, “Hello Eric, would you like to learn some Python today?”"
   ]
  },
  {
   "cell_type": "code",
   "execution_count": 8,
   "id": "6dad137a",
   "metadata": {},
   "outputs": [
    {
     "name": "stdout",
     "output_type": "stream",
     "text": [
      "Ankit\n",
      "Hello Ankit ,would you like to learn some Python today?\n"
     ]
    }
   ],
   "source": [
    "c = \"Ankit\"\n",
    "print(c)\n",
    "print(\"Hello\",c,\",would you like to learn some Python today?\")"
   ]
  },
  {
   "cell_type": "markdown",
   "id": "30d2e707",
   "metadata": {},
   "source": [
    "### 4. Find a quote from a famous person you admire. Print the quote and the name of its author. Your output should look something like the following, including the quotation marks: Albert Einstein once said, “A person who never made a mistake never tried anything new.”"
   ]
  },
  {
   "cell_type": "code",
   "execution_count": 10,
   "id": "7443f934",
   "metadata": {},
   "outputs": [
    {
     "name": "stdout",
     "output_type": "stream",
     "text": [
      "The Bhagavad Gita encourages us to \"live life with purity, strength, discipline, honesty, kindness and integrity in order to find our purpose and to live it fully.\"\n"
     ]
    }
   ],
   "source": [
    "d = \"The Bhagavad Gita encourages us to \\\"live life with purity, strength, discipline, honesty, kindness and integrity in order to find our purpose and to live it fully.\\\"\"\n",
    "print(d)"
   ]
  },
  {
   "cell_type": "markdown",
   "id": "b6e735d9",
   "metadata": {},
   "source": [
    "### 5. Repeat Exercise 4, but this time store the famous person’s name in a variable called famous_person. Then compose your message and store it in a new variable called message. Print your message."
   ]
  },
  {
   "cell_type": "code",
   "execution_count": 16,
   "id": "85649509",
   "metadata": {},
   "outputs": [
    {
     "name": "stdout",
     "output_type": "stream",
     "text": [
      "The Bhagavad Gita encourages us to \"live life with purity, strength, discipline, honesty, kindness and integrity in order to find our purpose and to live it fully.\"\n"
     ]
    }
   ],
   "source": [
    "famous_book = \"Bhagavad Gita\"\n",
    "message = \"The {} encourages us to \\\"live life with purity, strength, discipline, honesty, kindness and integrity in order to find our purpose and to live it fully.\\\"\".format(famous_book)\n",
    "print(message)"
   ]
  },
  {
   "cell_type": "markdown",
   "id": "185b2c6d",
   "metadata": {},
   "source": [
    "### 6. Write addition, subtraction, multiplication, and division operations that each result in the number 8. Be sure to enclose your operations in print statements to see the results. You should create four lines that look like this: print (5 + 3) Your output should simply be four lines with the number 8 appearing once on each line."
   ]
  },
  {
   "cell_type": "code",
   "execution_count": 21,
   "id": "3339a447",
   "metadata": {},
   "outputs": [
    {
     "name": "stdout",
     "output_type": "stream",
     "text": [
      "Addition: 8\n",
      "Substraction: 8\n",
      "Multiplication: 8\n",
      "Division: 8\n"
     ]
    }
   ],
   "source": [
    "a = 2\n",
    "b = 4\n",
    "c = 10\n",
    "d = 16\n",
    "print(\"Addition:\",b+b)\n",
    "print(\"Substraction:\",c-a)\n",
    "print(\"Multiplication:\",a*b)\n",
    "print(\"Division:\",int(d/a))"
   ]
  },
  {
   "cell_type": "markdown",
   "id": "2d08a93a",
   "metadata": {},
   "source": [
    "### 7. Store your favourite number in a variable. Then, using that variable, create a message that reveals your favourite number. Print that message."
   ]
  },
  {
   "cell_type": "code",
   "execution_count": 22,
   "id": "1320fc17",
   "metadata": {},
   "outputs": [
    {
     "name": "stdout",
     "output_type": "stream",
     "text": [
      "my fav number is  212\n"
     ]
    }
   ],
   "source": [
    "# This Program talks about storing Int values to a variable and printing it with a message, created 11 Apr 7:52PM by Akashdeep Shukla\n",
    "n = 212\n",
    "print(\"my fav number is \",n)"
   ]
  },
  {
   "cell_type": "markdown",
   "id": "4a9502ac",
   "metadata": {},
   "source": [
    "### 8. Choose two of the programs you’ve written and add at least one comment to each. If you don’t have anything specific to write because your programs are too simple at this point, just add your name and the current date at the top of each program file. Then write one sentence describing what the program does."
   ]
  },
  {
   "cell_type": "code",
   "execution_count": 23,
   "id": "880795a6",
   "metadata": {},
   "outputs": [],
   "source": [
    "# Solution done on In [1] and In [22]"
   ]
  },
  {
   "cell_type": "markdown",
   "id": "97987e0a",
   "metadata": {},
   "source": [
    "### 9. Store the names of a few of your friends in a list called names. Print each person’s name by accessing each element in the list, one at a time."
   ]
  },
  {
   "cell_type": "code",
   "execution_count": 25,
   "id": "cb11d1ff",
   "metadata": {},
   "outputs": [
    {
     "name": "stdout",
     "output_type": "stream",
     "text": [
      "Kane\n",
      "Clark\n",
      "Abby\n",
      "Bellamy\n",
      "Octavia\n",
      "Murphy\n",
      "Rose\n"
     ]
    }
   ],
   "source": [
    "#This list conmtains characters from the 100 series in netflix\n",
    "names = [\"Clark\",\"Abby\",\"Octavia\",\"Bellamy\",\"Murphy\",\"Rose\",\"Kane\"]\n",
    "print(names[-1])\n",
    "print(names[0])\n",
    "print(names[1])\n",
    "print(names[3])\n",
    "print(names[2])\n",
    "print(names[4])\n",
    "print(names[5])"
   ]
  },
  {
   "cell_type": "markdown",
   "id": "d3037c80",
   "metadata": {},
   "source": [
    "### 10.Start with the list you used in Exercise 9, but instead of just printing each person’s name, print a message to them. The text of each message should be the same, but each message should be personalized with the person’s name."
   ]
  },
  {
   "cell_type": "code",
   "execution_count": 35,
   "id": "530fe601",
   "metadata": {},
   "outputs": [
    {
     "name": "stdout",
     "output_type": "stream",
     "text": [
      "Clark Abby Octavia Bellamy Murphy Rose Kane\n",
      "printing lists in new line\n",
      "Clark\n",
      "Abby\n",
      "Octavia\n",
      "Bellamy\n",
      "Murphy\n",
      "Rose\n",
      "Kane\n",
      "My friend name is Clark!\n",
      "My friend name is Abby!\n",
      "My friend name is Octavia!\n",
      "My friend name is Bellamy!\n",
      "My friend name is Murphy!\n",
      "My friend name is Rose!\n",
      "My friend name is Kane!\n"
     ]
    }
   ],
   "source": [
    "list = [\"Clark\",\"Abby\",\"Octavia\",\"Bellamy\",\"Murphy\",\"Rose\",\"Kane\"]\n",
    "print (*list)\n",
    "\n",
    "print (\"printing lists in new line\")\n",
    "print (*list, sep=\"\\n\")\n",
    "\n",
    "for element in list:\n",
    "    print(f\"My friend name is {element}!\")"
   ]
  },
  {
   "cell_type": "markdown",
   "id": "25b14915",
   "metadata": {},
   "source": [
    "### 11.Think of your favourite mode of transportation, such as a motorcycle or a car, and make a list that stores several examples. Use your list to print a series of statements about these items, such as “I would like to own a Honda motorcycle."
   ]
  },
  {
   "cell_type": "code",
   "execution_count": 36,
   "id": "772a5dbf",
   "metadata": {},
   "outputs": [
    {
     "name": "stdout",
     "output_type": "stream",
     "text": [
      "How many sentences you want to enter: 3\n",
      "I like Bajaj Pulsar\n",
      "My Fav city is Bangalore\n",
      "my name is Akash\n"
     ]
    }
   ],
   "source": [
    "list = []\n",
    "n = int(input(\"How many sentences you want to enter: \"))\n",
    "  \n",
    "for i in range(0, n):\n",
    "    x = input()\n",
    "    list.append(x)"
   ]
  },
  {
   "cell_type": "code",
   "execution_count": null,
   "id": "9010d756",
   "metadata": {},
   "outputs": [],
   "source": []
  }
 ],
 "metadata": {
  "kernelspec": {
   "display_name": "Python 3 (ipykernel)",
   "language": "python",
   "name": "python3"
  },
  "language_info": {
   "codemirror_mode": {
    "name": "ipython",
    "version": 3
   },
   "file_extension": ".py",
   "mimetype": "text/x-python",
   "name": "python",
   "nbconvert_exporter": "python",
   "pygments_lexer": "ipython3",
   "version": "3.10.9"
  }
 },
 "nbformat": 4,
 "nbformat_minor": 5
}
